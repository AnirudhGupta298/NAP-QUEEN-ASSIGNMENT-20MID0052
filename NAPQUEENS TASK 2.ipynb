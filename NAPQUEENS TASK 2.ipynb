{
 "cells": [
  {
   "cell_type": "markdown",
   "id": "d37d8bc2-5e9d-4261-8b06-8495c953c17e",
   "metadata": {},
   "source": [
    "# TASK 2\n"
   ]
  },
  {
   "cell_type": "markdown",
   "id": "b757b86c-02a4-4653-a4f1-e252c85c358d",
   "metadata": {},
   "source": [
    "### predicting unit sales without using ad spend data."
   ]
  },
  {
   "cell_type": "markdown",
   "id": "6d5d6fa8-5621-49c2-a4a9-0886c912761d",
   "metadata": {},
   "source": [
    "### Exploratory Data Analysis (EDA)"
   ]
  },
  {
   "cell_type": "code",
   "execution_count": 1,
   "id": "9f7b7b3c-3598-48a5-812c-2a880deea20b",
   "metadata": {},
   "outputs": [],
   "source": [
    "import pandas as pd\n",
    "import numpy as np\n",
    "\n",
    "data = pd.read_csv('train.csv')\n",
    "\n",
    "data['date'] = pd.to_datetime(data['date'], format='%Y-%m-%d')\n",
    "data['year'] = data['date'].dt.year\n",
    "data['month'] = data['date'].dt.month\n",
    "data['day'] = data['date'].dt.day\n",
    "data['dayofweek'] = data['date'].dt.dayofweek\n",
    "\n",
    "data = data.sort_values(by=['Item Id', 'date'])\n"
   ]
  },
  {
   "cell_type": "markdown",
   "id": "5424c879-3870-431e-8f92-9915505ae538",
   "metadata": {},
   "source": [
    "### Feature Engineering"
   ]
  },
  {
   "cell_type": "code",
   "execution_count": 2,
   "id": "27576597-6dca-4750-b62e-3808777a8ada",
   "metadata": {},
   "outputs": [],
   "source": [
    "features = ['year', 'month', 'day', 'dayofweek', 'lag_1', 'lag_2', 'lag_3', 'lag_4', 'lag_5', 'lag_6', 'lag_7', 'rolling_mean_7', 'rolling_sum_7']\n",
    "target = 'units'\n",
    "\n",
    "for lag in range(1, 8):\n",
    "    data[f'lag_{lag}'] = data.groupby('Item Id')['units'].shift(lag)\n",
    "\n",
    "data['rolling_mean_7'] = data.groupby('Item Id')['units'].transform(lambda x: x.rolling(window=7).mean())\n",
    "data['rolling_sum_7'] = data.groupby('Item Id')['units'].transform(lambda x: x.rolling(window=7).sum())\n",
    "\n",
    "data.dropna(inplace=True)\n",
    "\n",
    "X = data[features]\n",
    "y = data[target]\n",
    "\n",
    "test_data = pd.read_csv('test.csv')\n",
    "\n",
    "test_data['date'] = pd.to_datetime(test_data['date'], format='%Y-%m-%d')\n",
    "\n",
    "test_data['year'] = test_data['date'].dt.year\n",
    "test_data['month'] = test_data['date'].dt.month\n",
    "test_data['day'] = test_data['date'].dt.day\n",
    "test_data['dayofweek'] = test_data['date'].dt.dayofweek\n",
    "\n",
    "for lag in range(1, 8):\n",
    "    test_data[f'lag_{lag}'] = np.nan\n",
    "\n",
    "test_data['rolling_mean_7'] = np.nan\n",
    "test_data['rolling_sum_7'] = np.nan\n"
   ]
  },
  {
   "cell_type": "markdown",
   "id": "b25c8958-f85b-4601-9ee8-bc19488a128e",
   "metadata": {},
   "source": [
    "### Model Selection"
   ]
  },
  {
   "cell_type": "code",
   "execution_count": 3,
   "id": "ab75a251-14a0-46d4-9b05-8131665e022f",
   "metadata": {},
   "outputs": [
    {
     "name": "stdout",
     "output_type": "stream",
     "text": [
      "XGBoost Mean Squared Error: 18919.183501297714\n",
      "[LightGBM] [Info] Auto-choosing row-wise multi-threading, the overhead of testing was 0.000655 seconds.\n",
      "You can set `force_row_wise=true` to remove the overhead.\n",
      "And if memory is not enough, you can set `force_col_wise=true`.\n",
      "[LightGBM] [Info] Total Bins 2351\n",
      "[LightGBM] [Info] Number of data points in the train set: 41694, number of used features: 13\n",
      "[LightGBM] [Info] Start training from score 13.272677\n",
      "[LightGBM] [Info] Auto-choosing col-wise multi-threading, the overhead of testing was 0.006973 seconds.\n",
      "You can set `force_col_wise=true` to remove the overhead.\n",
      "[LightGBM] [Info] Total Bins 2351\n",
      "[LightGBM] [Info] Number of data points in the train set: 41694, number of used features: 13\n",
      "[LightGBM] [Info] Start training from score 13.272677\n",
      "Voting Regressor Mean Squared Error: 9002.894698495329\n"
     ]
    }
   ],
   "source": [
    "import xgboost as xgb\n",
    "import lightgbm as lgb\n",
    "from sklearn.model_selection import train_test_split\n",
    "from sklearn.metrics import mean_squared_error\n",
    "from sklearn.ensemble import VotingRegressor\n",
    "\n",
    "X_train, X_val, y_train, y_val = train_test_split(X, y, test_size=0.2, random_state=42)\n",
    "\n",
    "xgb_model = xgb.XGBRegressor(objective='reg:squarederror')\n",
    "xgb_model.fit(X_train, y_train)\n",
    "\n",
    "y_pred = xgb_model.predict(X_val)\n",
    "mse = mean_squared_error(y_val, y_pred)\n",
    "print(f'XGBoost Mean Squared Error: {mse}')\n",
    "\n",
    "lgb_model = lgb.LGBMRegressor()\n",
    "lgb_model.fit(X_train, y_train)\n",
    "\n",
    "voting_model = VotingRegressor(estimators=[\n",
    "    ('xgb', xgb_model),\n",
    "    ('lgb', lgb_model)\n",
    "])\n",
    "\n",
    "voting_model.fit(X_train, y_train)\n",
    "\n",
    "y_pred_voting = voting_model.predict(X_val)\n",
    "mse_voting = mean_squared_error(y_val, y_pred_voting)\n",
    "print(f'Voting Regressor Mean Squared Error: {mse_voting}')\n"
   ]
  },
  {
   "cell_type": "markdown",
   "id": "a8c21a53-07e4-4c5f-8f95-6aaed8ef789d",
   "metadata": {},
   "source": [
    "### Hyperparameter Tuning"
   ]
  },
  {
   "cell_type": "code",
   "execution_count": 4,
   "id": "159f4b8a-4e2d-4fea-a2fa-96d8100ca501",
   "metadata": {},
   "outputs": [
    {
     "name": "stdout",
     "output_type": "stream",
     "text": [
      "Final XGBoost Mean Squared Error: 8585.214285165122\n",
      "Voting Regressor Mean Squared Error: 9002.894698495329\n"
     ]
    }
   ],
   "source": [
    "from sklearn.model_selection import GridSearchCV\n",
    "\n",
    "param_grid = {\n",
    "    'n_estimators': [100, 200, 300],\n",
    "    'max_depth': [3, 5, 7],\n",
    "    'learning_rate': [0.01, 0.05, 0.1]\n",
    "}\n",
    "\n",
    "grid_search = GridSearchCV(estimator=xgb_model, param_grid=param_grid, cv=3, scoring='neg_mean_squared_error')\n",
    "grid_search.fit(X_train, y_train)\n",
    "\n",
    "best_params = grid_search.best_params_\n",
    "final_xgb_model = xgb.XGBRegressor(objective='reg:squarederror', **best_params)\n",
    "final_xgb_model.fit(X_train, y_train)\n",
    "\n",
    "y_pred_final = final_xgb_model.predict(X_val)\n",
    "mse_final = mean_squared_error(y_val, y_pred_final)\n",
    "print(f'Final XGBoost Mean Squared Error: {mse_final}')\n",
    "print(f'Voting Regressor Mean Squared Error: {mse_voting}')\n",
    "\n",
    "\n",
    "X_test = test_data[features]\n",
    "test_data['TARGET'] = voting_model.predict(X_test)\n",
    "\n",
    "submission = test_data[['date', 'Item Id', 'TARGET']]\n",
    "submission.to_csv('Task2_submission.csv', index=False)\n"
   ]
  },
  {
   "cell_type": "code",
   "execution_count": null,
   "id": "d126a81c-56b4-4e36-90f9-8ca6dc706705",
   "metadata": {},
   "outputs": [],
   "source": []
  }
 ],
 "metadata": {
  "kernelspec": {
   "display_name": "Python 3 (ipykernel)",
   "language": "python",
   "name": "python3"
  },
  "language_info": {
   "codemirror_mode": {
    "name": "ipython",
    "version": 3
   },
   "file_extension": ".py",
   "mimetype": "text/x-python",
   "name": "python",
   "nbconvert_exporter": "python",
   "pygments_lexer": "ipython3",
   "version": "3.12.4"
  }
 },
 "nbformat": 4,
 "nbformat_minor": 5
}
